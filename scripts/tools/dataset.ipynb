{
 "cells": [
  {
   "cell_type": "code",
   "execution_count": 5,
   "metadata": {},
   "outputs": [],
   "source": [
    "import torch\n",
    "import torchvision.transforms as tforms\n",
    "from torch.utils.data import DataLoader\n",
    "from torchvision import datasets\n",
    "import os\n",
    "import pathlib"
   ]
  },
  {
   "cell_type": "code",
   "execution_count": 9,
   "metadata": {},
   "outputs": [
    {
     "ename": "FileNotFoundError",
     "evalue": "[WinError 3] 系统找不到指定的路径。: 'E:\\\\jikewct\\\\Repos\\\\ml_code\\\\data\\\\test\\\\fast_fid\\\\1721321267\\\\00000.jpg' -> 'E:\\\\jikewct\\\\Repos\\\\ml_code\\\\data\\\\test\\\\fast_fid/merge_cifar10_ncsnpp/1721321267_00000.jpg'",
     "output_type": "error",
     "traceback": [
      "\u001b[1;31m---------------------------------------------------------------------------\u001b[0m",
      "\u001b[1;31mFileNotFoundError\u001b[0m                         Traceback (most recent call last)",
      "Cell \u001b[1;32mIn[9], line 12\u001b[0m\n\u001b[0;32m     10\u001b[0m \u001b[38;5;28;01mfor\u001b[39;00m file \u001b[38;5;129;01min\u001b[39;00m files:\n\u001b[0;32m     11\u001b[0m     dest_file \u001b[38;5;241m=\u001b[39m path \u001b[38;5;241m+\u001b[39m \u001b[38;5;124m\"\u001b[39m\u001b[38;5;124m/\u001b[39m\u001b[38;5;124m\"\u001b[39m \u001b[38;5;241m+\u001b[39m merge_dir \u001b[38;5;241m+\u001b[39m \u001b[38;5;124m\"\u001b[39m\u001b[38;5;124m/\u001b[39m\u001b[38;5;124m\"\u001b[39m \u001b[38;5;241m+\u001b[39m \u001b[38;5;28mdir\u001b[39m \u001b[38;5;241m+\u001b[39m \u001b[38;5;124m\"\u001b[39m\u001b[38;5;124m_\u001b[39m\u001b[38;5;124m\"\u001b[39m \u001b[38;5;241m+\u001b[39m file\u001b[38;5;241m.\u001b[39mname\n\u001b[1;32m---> 12\u001b[0m     os\u001b[38;5;241m.\u001b[39mrename(file, dest_file)\n",
      "\u001b[1;31mFileNotFoundError\u001b[0m: [WinError 3] 系统找不到指定的路径。: 'E:\\\\jikewct\\\\Repos\\\\ml_code\\\\data\\\\test\\\\fast_fid\\\\1721321267\\\\00000.jpg' -> 'E:\\\\jikewct\\\\Repos\\\\ml_code\\\\data\\\\test\\\\fast_fid/merge_cifar10_ncsnpp/1721321267_00000.jpg'"
     ]
    }
   ],
   "source": [
    "path = \"E:\\jikewct\\Repos\\ml_code\\data\\\\test\\\\fast_fid\"\n",
    "dirs = [\"1721321267\", \"1721327876\",\"1721333589\",\"1721339246\",\"1721344845\"]\n",
    "merge_dir = \"merge_cifar10_ncsnpp\"\n",
    "os.makedirs(path+\"/\"+merge_dir, exist_ok=True)\n",
    "for  dir in dirs:\n",
    "    file_dir = path + \"/\" + dir\n",
    "    # 指定目录路径\n",
    "    directory = pathlib.Path(file_dir)\n",
    "    # 获取目录下所有文件的路径\n",
    "    files = [file for file in directory.iterdir() if file.is_file()]\n",
    "    for file in files:\n",
    "        dest_file = path + \"/\" + merge_dir + \"/\" + dir + \"_\" + file.name\n",
    "        os.rename(file, dest_file)\n",
    "\n"
   ]
  }
 ],
 "metadata": {
  "kernelspec": {
   "display_name": "py3",
   "language": "python",
   "name": "python3"
  },
  "language_info": {
   "codemirror_mode": {
    "name": "ipython",
    "version": 3
   },
   "file_extension": ".py",
   "mimetype": "text/x-python",
   "name": "python",
   "nbconvert_exporter": "python",
   "pygments_lexer": "ipython3",
   "version": "3.11.9"
  }
 },
 "nbformat": 4,
 "nbformat_minor": 2
}
