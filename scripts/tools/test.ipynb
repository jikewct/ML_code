{
 "cells": [
  {
   "cell_type": "code",
   "execution_count": 2,
   "metadata": {},
   "outputs": [
    {
     "name": "stderr",
     "output_type": "stream",
     "text": [
      "/home/jikewct/anaconda3/envs/py3.11/lib/python3.11/site-packages/tqdm/auto.py:21: TqdmWarning: IProgress not found. Please update jupyter and ipywidgets. See https://ipywidgets.readthedocs.io/en/stable/user_install.html\n",
      "  from .autonotebook import tqdm as notebook_tqdm\n"
     ]
    }
   ],
   "source": [
    "import logging\n",
    "import os\n",
    "import time\n",
    "import uuid\n",
    "from abc import ABC, abstractmethod\n",
    "\n",
    "import accelerate\n",
    "import imageio\n",
    "import numpy as np\n",
    "import pytorch_fid\n",
    "import pytorch_fid.fid_score\n",
    "import torch\n",
    "import wandb\n",
    "from accelerate import Accelerator\n",
    "from torch import Tensor, optim\n",
    "import sys, os\n",
    "sys.path.append(\".\")\n",
    "sys.path.append(\"..\")\n",
    "os.chdir(\"/home/jikewct/public/jikewct/Repos/ml_code\")\n",
    "from lib import tensor_trans"
   ]
  },
  {
   "cell_type": "code",
   "execution_count": 2,
   "metadata": {},
   "outputs": [],
   "source": []
  },
  {
   "cell_type": "code",
   "execution_count": null,
   "metadata": {},
   "outputs": [],
   "source": [
    "y = torch.randn(4,2,1)\n",
    "trans_y = tensor_trans.mask_sample_in_batch_by_cond(y, 0.5)\n",
    "print(y, trans_y)"
   ]
  },
  {
   "cell_type": "code",
   "execution_count": null,
   "metadata": {},
   "outputs": [],
   "source": [
    "y = torch.randn(4,2,1)\n",
    "x = torch.randn(1,2,1)\n",
    "\n",
    "trans_y = tensor_trans.replace_sample_by_cond(y,x,0.9)\n",
    "print(y)\n",
    "print(x)\n",
    "print(trans_y)"
   ]
  },
  {
   "cell_type": "code",
   "execution_count": 4,
   "metadata": {},
   "outputs": [
    {
     "data": {
      "text/plain": [
       "tensor([[-0.3147],\n",
       "        [-2.4404]])"
      ]
     },
     "execution_count": 4,
     "metadata": {},
     "output_type": "execute_result"
    }
   ],
   "source": [
    "trans_y[0]"
   ]
  },
  {
   "cell_type": "code",
   "execution_count": null,
   "metadata": {},
   "outputs": [],
   "source": [
    "beta_max = 0.0120\n",
    "beta_min = 0.00085\n",
    "N = 1000\n",
    "def get_schedule(beta_max, beta_min, N):\n",
    "    betas = np.linspace(beta_min, beta_max,N)\n",
    "    alphas = 1 - betas\n",
    "    alphas_cum = np.cumprod(alphas)\n",
    "    return alphas_cum\n",
    "\n",
    "a1 = get_schedule(beta_max, beta_min, 1000)\n",
    "a2 = get_schedule(beta_max, beta_min, 10000)\n",
    "\n",
    "print(a1[:10])\n",
    "print(a2[:100])\n"
   ]
  },
  {
   "cell_type": "code",
   "execution_count": 7,
   "metadata": {},
   "outputs": [
    {
     "name": "stdout",
     "output_type": "stream",
     "text": [
      "tensor([[-1.0605,  0.3062,  0.5727],\n",
      "        [-1.8373, -0.4808,  0.2450]])\n",
      "[[9.9999997e-05 3.0620062e-01 5.7266849e-01]\n",
      " [9.9999997e-05 9.9999997e-05 2.4496992e-01]]\n"
     ]
    }
   ],
   "source": [
    "a = torch.randn((2,3))\n",
    "b = torch.where(a > 0, a, 1e-4)\n",
    "print(a)\n",
    "print(b)"
   ]
  }
 ],
 "metadata": {
  "kernelspec": {
   "display_name": "py3.11",
   "language": "python",
   "name": "python3"
  },
  "language_info": {
   "codemirror_mode": {
    "name": "ipython",
    "version": 3
   },
   "file_extension": ".py",
   "mimetype": "text/x-python",
   "name": "python",
   "nbconvert_exporter": "python",
   "pygments_lexer": "ipython3",
   "version": "3.11.9"
  }
 },
 "nbformat": 4,
 "nbformat_minor": 2
}
