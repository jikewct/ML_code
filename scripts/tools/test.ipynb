{
 "cells": [
  {
   "cell_type": "code",
   "execution_count": 7,
   "metadata": {},
   "outputs": [],
   "source": [
    "import logging\n",
    "import os\n",
    "import time\n",
    "import uuid\n",
    "from abc import ABC, abstractmethod\n",
    "\n",
    "import accelerate\n",
    "import imageio\n",
    "import numpy as np\n",
    "import pytorch_fid\n",
    "import pytorch_fid.fid_score\n",
    "import torch\n",
    "import wandb\n",
    "from accelerate import Accelerator\n",
    "from torch import Tensor, optim\n",
    "import sys, os\n",
    "sys.path.append(\".\")\n",
    "sys.path.append(\"..\")\n",
    "os.chdir(\"/home/jikewct/public/jikewct/Repos/ml_code\")\n",
    "from lib import tensor_trans"
   ]
  },
  {
   "cell_type": "code",
   "execution_count": 2,
   "metadata": {},
   "outputs": [],
   "source": []
  },
  {
   "cell_type": "code",
   "execution_count": 8,
   "metadata": {},
   "outputs": [
    {
     "name": "stdout",
     "output_type": "stream",
     "text": [
      "tensor([[[-1.0667],\n",
      "         [-0.2357]],\n",
      "\n",
      "        [[-0.4816],\n",
      "         [-1.0666]],\n",
      "\n",
      "        [[ 0.0280],\n",
      "         [ 0.7013]],\n",
      "\n",
      "        [[ 0.5029],\n",
      "         [-2.5532]]]) tensor([[[-0.0000],\n",
      "         [-0.0000]],\n",
      "\n",
      "        [[-0.0000],\n",
      "         [-0.0000]],\n",
      "\n",
      "        [[ 0.0280],\n",
      "         [ 0.7013]],\n",
      "\n",
      "        [[ 0.5029],\n",
      "         [-2.5532]]])\n"
     ]
    }
   ],
   "source": [
    "y = torch.randn(4,2,1)\n",
    "trans_y = tensor_trans.mask_sample_in_batch_by_cond(y, 0.5)\n",
    "print(y, trans_y)"
   ]
  }
 ],
 "metadata": {
  "kernelspec": {
   "display_name": "py3.11",
   "language": "python",
   "name": "python3"
  },
  "language_info": {
   "codemirror_mode": {
    "name": "ipython",
    "version": 3
   },
   "file_extension": ".py",
   "mimetype": "text/x-python",
   "name": "python",
   "nbconvert_exporter": "python",
   "pygments_lexer": "ipython3",
   "version": "3.11.9"
  }
 },
 "nbformat": 4,
 "nbformat_minor": 2
}
