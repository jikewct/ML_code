{
 "cells": [
  {
   "cell_type": "code",
   "execution_count": 1,
   "metadata": {},
   "outputs": [
    {
     "name": "stderr",
     "output_type": "stream",
     "text": [
      "/home/jikewct/anaconda3/envs/py3.8/lib/python3.8/site-packages/tqdm/auto.py:21: TqdmWarning: IProgress not found. Please update jupyter and ipywidgets. See https://ipywidgets.readthedocs.io/en/stable/user_install.html\n",
      "  from .autonotebook import tqdm as notebook_tqdm\n"
     ]
    }
   ],
   "source": [
    "import torch\n",
    "import tensorflow as tf\n",
    "import os\n",
    "import logging"
   ]
  },
  {
   "cell_type": "code",
   "execution_count": 2,
   "metadata": {},
   "outputs": [],
   "source": [
    "import sys\n",
    "sys.path.append('.')\n",
    "sys.path.append('..')\n",
    "os.chdir('/home/jikewct/public/jikewct/Repos/ml_code')\n",
    "from  pipeline.models.network import ncsnpp, lora_ncsnpp\n",
    "\n",
    "from pipeline.models import FlowMatching\n",
    "from pipeline.models import *\n",
    "from pipeline.models import model_utils\n",
    "from pipeline.models.network.net_utils import mark_only_lora_as_trainable\n"
   ]
  },
  {
   "cell_type": "markdown",
   "metadata": {},
   "source": [
    "from configs.flow_matching.cifar10_ncsnpp import get_config\n",
    "config = get_config()"
   ]
  },
  {
   "cell_type": "code",
   "execution_count": null,
   "metadata": {},
   "outputs": [],
   "source": []
  },
  {
   "cell_type": "code",
   "execution_count": 3,
   "metadata": {},
   "outputs": [],
   "source": [
    "def convert_score_sde_model(model_name, checkpoint, fm_model):\n",
    "    #model_name = \"2_rect_flow\"\n",
    "    model_path = \"/home/jikewct/public/jikewct/Model/rect_flow/\"\n",
    "    model_checkpoint = f\"{model_path}/{model_name}_{checkpoint}\"\n",
    "    loaded_state = torch.load(model_checkpoint)\n",
    "    save_dir = os.path.split(model_checkpoint)[0] \n",
    "    model = loaded_state['model']\n",
    "    cvt_model = dict()\n",
    "\n",
    "    for  key in  model.keys():\n",
    "        cvt_key = key.replace(\"module.\", \"\")\n",
    "        cvt_model[cvt_key] = model[key]\n",
    "    torch.save(cvt_model , model_path + f\"/{model_name}_cvt_model.pth\")\n",
    "    fm_model.network.load_state_dict(cvt_model)\n",
    "    model_params = fm_model.network.parameters()\n",
    "    shadow_params = loaded_state['ema']['shadow_params']\n",
    "    #print(len(model_params), len(shadow_params))\n",
    "    parameters = [p for p in model_params if p.requires_grad]\n",
    "    for ema_param , model_param in zip(shadow_params, parameters):\n",
    "        if model_param.requires_grad:\n",
    "            #print(f\"copy shape:{model_param.data.shape}\")\n",
    "            model_param.data.copy_(ema_param.data)\n",
    "    torch.save(fm_model.network.state_dict() ,model_path + f\"/{model_name}_model_ema.pth\")\n",
    "\n",
    "# from configs.flow_matching.cifar10_ncsnpp import get_config\n",
    "# config = get_config()\n",
    "# fm_model = model_utils.create_model(config)\n",
    "# convert_score_sde_model(\"2_rect_flow\", \"checkpoint_6.pth\", fm_model)"
   ]
  },
  {
   "cell_type": "code",
   "execution_count": 4,
   "metadata": {},
   "outputs": [
    {
     "name": "stdout",
     "output_type": "stream",
     "text": [
      "lora_ncsnpp\n",
      "Number of Parameters in the Score Model: 32704940\n"
     ]
    }
   ],
   "source": [
    "from configs.flow_matching.afhq_lora_dog_ncsnpp import get_config\n",
    "config = get_config()\n",
    "print(config.model.nn_name)\n",
    "afhq_lora_dog_model = model_utils.create_model(config)"
   ]
  },
  {
   "cell_type": "code",
   "execution_count": 5,
   "metadata": {},
   "outputs": [],
   "source": [
    "\n",
    "loaded_state = torch.load(config.training.model_checkpoint)"
   ]
  },
  {
   "cell_type": "code",
   "execution_count": 6,
   "metadata": {},
   "outputs": [
    {
     "name": "stdout",
     "output_type": "stream",
     "text": [
      "odict_keys(['sigmas', 'all_modules.0.W', 'all_modules.1.weight', 'all_modules.1.bias', 'all_modules.2.weight', 'all_modules.2.bias', 'all_modules.3.weight', 'all_modules.3.bias', 'all_modules.4.GroupNorm_0.weight', 'all_modules.4.GroupNorm_0.bias', 'all_modules.4.Conv_0.weight', 'all_modules.4.Conv_0.bias', 'all_modules.4.Dense_0.weight', 'all_modules.4.Dense_0.bias', 'all_modules.4.GroupNorm_1.weight', 'all_modules.4.GroupNorm_1.bias', 'all_modules.4.Conv_1.weight', 'all_modules.4.Conv_1.bias', 'all_modules.5.GroupNorm_0.weight', 'all_modules.5.GroupNorm_0.bias', 'all_modules.5.Conv_0.weight', 'all_modules.5.Conv_0.bias', 'all_modules.5.Dense_0.weight', 'all_modules.5.Dense_0.bias', 'all_modules.5.GroupNorm_1.weight', 'all_modules.5.GroupNorm_1.bias', 'all_modules.5.Conv_1.weight', 'all_modules.5.Conv_1.bias', 'all_modules.6.GroupNorm_0.weight', 'all_modules.6.GroupNorm_0.bias', 'all_modules.6.Conv_0.weight', 'all_modules.6.Conv_0.bias', 'all_modules.6.Dense_0.weight', 'all_modules.6.Dense_0.bias', 'all_modules.6.GroupNorm_1.weight', 'all_modules.6.GroupNorm_1.bias', 'all_modules.6.Conv_1.weight', 'all_modules.6.Conv_1.bias', 'all_modules.6.Conv_2.weight', 'all_modules.6.Conv_2.bias', 'all_modules.7.Conv_0.weight', 'all_modules.7.Conv_0.bias', 'all_modules.8.GroupNorm_0.weight', 'all_modules.8.GroupNorm_0.bias', 'all_modules.8.Conv_0.weight', 'all_modules.8.Conv_0.bias', 'all_modules.8.Dense_0.weight', 'all_modules.8.Dense_0.bias', 'all_modules.8.GroupNorm_1.weight', 'all_modules.8.GroupNorm_1.bias', 'all_modules.8.Conv_1.weight', 'all_modules.8.Conv_1.bias', 'all_modules.9.GroupNorm_0.weight', 'all_modules.9.GroupNorm_0.bias', 'all_modules.9.Conv_0.weight', 'all_modules.9.Conv_0.bias', 'all_modules.9.Dense_0.weight', 'all_modules.9.Dense_0.bias', 'all_modules.9.GroupNorm_1.weight', 'all_modules.9.GroupNorm_1.bias', 'all_modules.9.Conv_1.weight', 'all_modules.9.Conv_1.bias', 'all_modules.10.GroupNorm_0.weight', 'all_modules.10.GroupNorm_0.bias', 'all_modules.10.Conv_0.weight', 'all_modules.10.Conv_0.bias', 'all_modules.10.Dense_0.weight', 'all_modules.10.Dense_0.bias', 'all_modules.10.GroupNorm_1.weight', 'all_modules.10.GroupNorm_1.bias', 'all_modules.10.Conv_1.weight', 'all_modules.10.Conv_1.bias', 'all_modules.10.Conv_2.weight', 'all_modules.10.Conv_2.bias', 'all_modules.11.Conv_0.weight', 'all_modules.11.Conv_0.bias', 'all_modules.12.GroupNorm_0.weight', 'all_modules.12.GroupNorm_0.bias', 'all_modules.12.Conv_0.weight', 'all_modules.12.Conv_0.bias', 'all_modules.12.Dense_0.weight', 'all_modules.12.Dense_0.bias', 'all_modules.12.GroupNorm_1.weight', 'all_modules.12.GroupNorm_1.bias', 'all_modules.12.Conv_1.weight', 'all_modules.12.Conv_1.bias', 'all_modules.12.Conv_2.weight', 'all_modules.12.Conv_2.bias', 'all_modules.13.GroupNorm_0.weight', 'all_modules.13.GroupNorm_0.bias', 'all_modules.13.Conv_0.weight', 'all_modules.13.Conv_0.bias', 'all_modules.13.Dense_0.weight', 'all_modules.13.Dense_0.bias', 'all_modules.13.GroupNorm_1.weight', 'all_modules.13.GroupNorm_1.bias', 'all_modules.13.Conv_1.weight', 'all_modules.13.Conv_1.bias', 'all_modules.14.GroupNorm_0.weight', 'all_modules.14.GroupNorm_0.bias', 'all_modules.14.Conv_0.weight', 'all_modules.14.Conv_0.bias', 'all_modules.14.Dense_0.weight', 'all_modules.14.Dense_0.bias', 'all_modules.14.GroupNorm_1.weight', 'all_modules.14.GroupNorm_1.bias', 'all_modules.14.Conv_1.weight', 'all_modules.14.Conv_1.bias', 'all_modules.14.Conv_2.weight', 'all_modules.14.Conv_2.bias', 'all_modules.15.Conv_0.weight', 'all_modules.15.Conv_0.bias', 'all_modules.16.GroupNorm_0.weight', 'all_modules.16.GroupNorm_0.bias', 'all_modules.16.Conv_0.weight', 'all_modules.16.Conv_0.bias', 'all_modules.16.Dense_0.weight', 'all_modules.16.Dense_0.bias', 'all_modules.16.GroupNorm_1.weight', 'all_modules.16.GroupNorm_1.bias', 'all_modules.16.Conv_1.weight', 'all_modules.16.Conv_1.bias', 'all_modules.17.GroupNorm_0.weight', 'all_modules.17.GroupNorm_0.bias', 'all_modules.17.NIN_0.W', 'all_modules.17.NIN_0.b', 'all_modules.17.NIN_1.W', 'all_modules.17.NIN_1.b', 'all_modules.17.NIN_2.W', 'all_modules.17.NIN_2.b', 'all_modules.17.NIN_3.W', 'all_modules.17.NIN_3.b', 'all_modules.18.GroupNorm_0.weight', 'all_modules.18.GroupNorm_0.bias', 'all_modules.18.Conv_0.weight', 'all_modules.18.Conv_0.bias', 'all_modules.18.Dense_0.weight', 'all_modules.18.Dense_0.bias', 'all_modules.18.GroupNorm_1.weight', 'all_modules.18.GroupNorm_1.bias', 'all_modules.18.Conv_1.weight', 'all_modules.18.Conv_1.bias', 'all_modules.19.GroupNorm_0.weight', 'all_modules.19.GroupNorm_0.bias', 'all_modules.19.NIN_0.W', 'all_modules.19.NIN_0.b', 'all_modules.19.NIN_1.W', 'all_modules.19.NIN_1.b', 'all_modules.19.NIN_2.W', 'all_modules.19.NIN_2.b', 'all_modules.19.NIN_3.W', 'all_modules.19.NIN_3.b', 'all_modules.20.GroupNorm_0.weight', 'all_modules.20.GroupNorm_0.bias', 'all_modules.20.Conv_0.weight', 'all_modules.20.Conv_0.bias', 'all_modules.20.Dense_0.weight', 'all_modules.20.Dense_0.bias', 'all_modules.20.GroupNorm_1.weight', 'all_modules.20.GroupNorm_1.bias', 'all_modules.20.Conv_1.weight', 'all_modules.20.Conv_1.bias', 'all_modules.21.GroupNorm_0.weight', 'all_modules.21.GroupNorm_0.bias', 'all_modules.21.NIN_0.W', 'all_modules.21.NIN_0.b', 'all_modules.21.NIN_1.W', 'all_modules.21.NIN_1.b', 'all_modules.21.NIN_2.W', 'all_modules.21.NIN_2.b', 'all_modules.21.NIN_3.W', 'all_modules.21.NIN_3.b', 'all_modules.22.GroupNorm_0.weight', 'all_modules.22.GroupNorm_0.bias', 'all_modules.22.Conv_0.weight', 'all_modules.22.Conv_0.bias', 'all_modules.22.Dense_0.weight', 'all_modules.22.Dense_0.bias', 'all_modules.22.GroupNorm_1.weight', 'all_modules.22.GroupNorm_1.bias', 'all_modules.22.Conv_1.weight', 'all_modules.22.Conv_1.bias', 'all_modules.23.GroupNorm_0.weight', 'all_modules.23.GroupNorm_0.bias', 'all_modules.23.Conv_0.weight', 'all_modules.23.Conv_0.bias', 'all_modules.23.Dense_0.weight', 'all_modules.23.Dense_0.bias', 'all_modules.23.GroupNorm_1.weight', 'all_modules.23.GroupNorm_1.bias', 'all_modules.23.Conv_1.weight', 'all_modules.23.Conv_1.bias', 'all_modules.23.Conv_2.weight', 'all_modules.23.Conv_2.bias', 'all_modules.24.GroupNorm_0.weight', 'all_modules.24.GroupNorm_0.bias', 'all_modules.24.Conv_0.weight', 'all_modules.24.Conv_0.bias', 'all_modules.24.Dense_0.weight', 'all_modules.24.Dense_0.bias', 'all_modules.24.GroupNorm_1.weight', 'all_modules.24.GroupNorm_1.bias', 'all_modules.24.Conv_1.weight', 'all_modules.24.Conv_1.bias', 'all_modules.24.Conv_2.weight', 'all_modules.24.Conv_2.bias', 'all_modules.25.GroupNorm_0.weight', 'all_modules.25.GroupNorm_0.bias', 'all_modules.25.Conv_0.weight', 'all_modules.25.Conv_0.bias', 'all_modules.25.Dense_0.weight', 'all_modules.25.Dense_0.bias', 'all_modules.25.GroupNorm_1.weight', 'all_modules.25.GroupNorm_1.bias', 'all_modules.25.Conv_1.weight', 'all_modules.25.Conv_1.bias', 'all_modules.25.Conv_2.weight', 'all_modules.25.Conv_2.bias', 'all_modules.26.GroupNorm_0.weight', 'all_modules.26.GroupNorm_0.bias', 'all_modules.26.NIN_0.W', 'all_modules.26.NIN_0.b', 'all_modules.26.NIN_1.W', 'all_modules.26.NIN_1.b', 'all_modules.26.NIN_2.W', 'all_modules.26.NIN_2.b', 'all_modules.26.NIN_3.W', 'all_modules.26.NIN_3.b', 'all_modules.27.weight', 'all_modules.27.bias', 'all_modules.28.weight', 'all_modules.28.bias', 'all_modules.29.GroupNorm_0.weight', 'all_modules.29.GroupNorm_0.bias', 'all_modules.29.Conv_0.weight', 'all_modules.29.Conv_0.bias', 'all_modules.29.Dense_0.weight', 'all_modules.29.Dense_0.bias', 'all_modules.29.GroupNorm_1.weight', 'all_modules.29.GroupNorm_1.bias', 'all_modules.29.Conv_1.weight', 'all_modules.29.Conv_1.bias', 'all_modules.29.Conv_2.weight', 'all_modules.29.Conv_2.bias', 'all_modules.30.GroupNorm_0.weight', 'all_modules.30.GroupNorm_0.bias', 'all_modules.30.Conv_0.weight', 'all_modules.30.Conv_0.bias', 'all_modules.30.Dense_0.weight', 'all_modules.30.Dense_0.bias', 'all_modules.30.GroupNorm_1.weight', 'all_modules.30.GroupNorm_1.bias', 'all_modules.30.Conv_1.weight', 'all_modules.30.Conv_1.bias', 'all_modules.30.Conv_2.weight', 'all_modules.30.Conv_2.bias', 'all_modules.31.GroupNorm_0.weight', 'all_modules.31.GroupNorm_0.bias', 'all_modules.31.Conv_0.weight', 'all_modules.31.Conv_0.bias', 'all_modules.31.Dense_0.weight', 'all_modules.31.Dense_0.bias', 'all_modules.31.GroupNorm_1.weight', 'all_modules.31.GroupNorm_1.bias', 'all_modules.31.Conv_1.weight', 'all_modules.31.Conv_1.bias', 'all_modules.31.Conv_2.weight', 'all_modules.31.Conv_2.bias', 'all_modules.32.GroupNorm_0.weight', 'all_modules.32.GroupNorm_0.bias', 'all_modules.32.Conv_0.weight', 'all_modules.32.Conv_0.bias', 'all_modules.32.Dense_0.weight', 'all_modules.32.Dense_0.bias', 'all_modules.32.GroupNorm_1.weight', 'all_modules.32.GroupNorm_1.bias', 'all_modules.32.Conv_1.weight', 'all_modules.32.Conv_1.bias', 'all_modules.32.Conv_2.weight', 'all_modules.32.Conv_2.bias', 'all_modules.33.weight', 'all_modules.33.bias', 'all_modules.34.weight', 'all_modules.34.bias', 'all_modules.35.GroupNorm_0.weight', 'all_modules.35.GroupNorm_0.bias', 'all_modules.35.Conv_0.weight', 'all_modules.35.Conv_0.bias', 'all_modules.35.Dense_0.weight', 'all_modules.35.Dense_0.bias', 'all_modules.35.GroupNorm_1.weight', 'all_modules.35.GroupNorm_1.bias', 'all_modules.35.Conv_1.weight', 'all_modules.35.Conv_1.bias', 'all_modules.35.Conv_2.weight', 'all_modules.35.Conv_2.bias', 'all_modules.36.GroupNorm_0.weight', 'all_modules.36.GroupNorm_0.bias', 'all_modules.36.Conv_0.weight', 'all_modules.36.Conv_0.bias', 'all_modules.36.Dense_0.weight', 'all_modules.36.Dense_0.bias', 'all_modules.36.GroupNorm_1.weight', 'all_modules.36.GroupNorm_1.bias', 'all_modules.36.Conv_1.weight', 'all_modules.36.Conv_1.bias', 'all_modules.36.Conv_2.weight', 'all_modules.36.Conv_2.bias', 'all_modules.37.GroupNorm_0.weight', 'all_modules.37.GroupNorm_0.bias', 'all_modules.37.Conv_0.weight', 'all_modules.37.Conv_0.bias', 'all_modules.37.Dense_0.weight', 'all_modules.37.Dense_0.bias', 'all_modules.37.GroupNorm_1.weight', 'all_modules.37.GroupNorm_1.bias', 'all_modules.37.Conv_1.weight', 'all_modules.37.Conv_1.bias', 'all_modules.37.Conv_2.weight', 'all_modules.37.Conv_2.bias', 'all_modules.38.GroupNorm_0.weight', 'all_modules.38.GroupNorm_0.bias', 'all_modules.38.Conv_0.weight', 'all_modules.38.Conv_0.bias', 'all_modules.38.Dense_0.weight', 'all_modules.38.Dense_0.bias', 'all_modules.38.GroupNorm_1.weight', 'all_modules.38.GroupNorm_1.bias', 'all_modules.38.Conv_1.weight', 'all_modules.38.Conv_1.bias', 'all_modules.38.Conv_2.weight', 'all_modules.38.Conv_2.bias', 'all_modules.39.weight', 'all_modules.39.bias', 'all_modules.40.weight', 'all_modules.40.bias', 'all_modules.41.GroupNorm_0.weight', 'all_modules.41.GroupNorm_0.bias', 'all_modules.41.Conv_0.weight', 'all_modules.41.Conv_0.bias', 'all_modules.41.Dense_0.weight', 'all_modules.41.Dense_0.bias', 'all_modules.41.GroupNorm_1.weight', 'all_modules.41.GroupNorm_1.bias', 'all_modules.41.Conv_1.weight', 'all_modules.41.Conv_1.bias', 'all_modules.41.Conv_2.weight', 'all_modules.41.Conv_2.bias', 'all_modules.42.GroupNorm_0.weight', 'all_modules.42.GroupNorm_0.bias', 'all_modules.42.Conv_0.weight', 'all_modules.42.Conv_0.bias', 'all_modules.42.Dense_0.weight', 'all_modules.42.Dense_0.bias', 'all_modules.42.GroupNorm_1.weight', 'all_modules.42.GroupNorm_1.bias', 'all_modules.42.Conv_1.weight', 'all_modules.42.Conv_1.bias', 'all_modules.42.Conv_2.weight', 'all_modules.42.Conv_2.bias', 'all_modules.43.GroupNorm_0.weight', 'all_modules.43.GroupNorm_0.bias', 'all_modules.43.Conv_0.weight', 'all_modules.43.Conv_0.bias', 'all_modules.43.Dense_0.weight', 'all_modules.43.Dense_0.bias', 'all_modules.43.GroupNorm_1.weight', 'all_modules.43.GroupNorm_1.bias', 'all_modules.43.Conv_1.weight', 'all_modules.43.Conv_1.bias', 'all_modules.43.Conv_2.weight', 'all_modules.43.Conv_2.bias', 'all_modules.44.GroupNorm_0.weight', 'all_modules.44.GroupNorm_0.bias', 'all_modules.44.Conv_0.weight', 'all_modules.44.Conv_0.bias', 'all_modules.44.Dense_0.weight', 'all_modules.44.Dense_0.bias', 'all_modules.44.GroupNorm_1.weight', 'all_modules.44.GroupNorm_1.bias', 'all_modules.44.Conv_1.weight', 'all_modules.44.Conv_1.bias', 'all_modules.44.Conv_2.weight', 'all_modules.44.Conv_2.bias', 'all_modules.45.weight', 'all_modules.45.bias', 'all_modules.46.weight', 'all_modules.46.bias'])\n",
      "odict_keys(['sigmas', 'all_modules.0.W', 'all_modules.1.weight', 'all_modules.1.bias', 'all_modules.1.lora_A', 'all_modules.1.lora_B', 'all_modules.2.weight', 'all_modules.2.bias', 'all_modules.2.lora_A', 'all_modules.2.lora_B', 'all_modules.3.weight', 'all_modules.3.bias', 'all_modules.4.GroupNorm_0.weight', 'all_modules.4.GroupNorm_0.bias', 'all_modules.4.Conv_0.weight', 'all_modules.4.Conv_0.bias', 'all_modules.4.Dense_0.weight', 'all_modules.4.Dense_0.bias', 'all_modules.4.GroupNorm_1.weight', 'all_modules.4.GroupNorm_1.bias', 'all_modules.4.Conv_1.weight', 'all_modules.4.Conv_1.bias', 'all_modules.5.GroupNorm_0.weight', 'all_modules.5.GroupNorm_0.bias', 'all_modules.5.Conv_0.weight', 'all_modules.5.Conv_0.bias', 'all_modules.5.Dense_0.weight', 'all_modules.5.Dense_0.bias', 'all_modules.5.GroupNorm_1.weight', 'all_modules.5.GroupNorm_1.bias', 'all_modules.5.Conv_1.weight', 'all_modules.5.Conv_1.bias', 'all_modules.6.GroupNorm_0.weight', 'all_modules.6.GroupNorm_0.bias', 'all_modules.6.Conv_0.weight', 'all_modules.6.Conv_0.bias', 'all_modules.6.Dense_0.weight', 'all_modules.6.Dense_0.bias', 'all_modules.6.GroupNorm_1.weight', 'all_modules.6.GroupNorm_1.bias', 'all_modules.6.Conv_1.weight', 'all_modules.6.Conv_1.bias', 'all_modules.6.Conv_2.weight', 'all_modules.6.Conv_2.bias', 'all_modules.7.Conv_0.weight', 'all_modules.7.Conv_0.bias', 'all_modules.8.GroupNorm_0.weight', 'all_modules.8.GroupNorm_0.bias', 'all_modules.8.Conv_0.weight', 'all_modules.8.Conv_0.bias', 'all_modules.8.Dense_0.weight', 'all_modules.8.Dense_0.bias', 'all_modules.8.GroupNorm_1.weight', 'all_modules.8.GroupNorm_1.bias', 'all_modules.8.Conv_1.weight', 'all_modules.8.Conv_1.bias', 'all_modules.9.GroupNorm_0.weight', 'all_modules.9.GroupNorm_0.bias', 'all_modules.9.Conv_0.weight', 'all_modules.9.Conv_0.bias', 'all_modules.9.Dense_0.weight', 'all_modules.9.Dense_0.bias', 'all_modules.9.GroupNorm_1.weight', 'all_modules.9.GroupNorm_1.bias', 'all_modules.9.Conv_1.weight', 'all_modules.9.Conv_1.bias', 'all_modules.10.GroupNorm_0.weight', 'all_modules.10.GroupNorm_0.bias', 'all_modules.10.Conv_0.weight', 'all_modules.10.Conv_0.bias', 'all_modules.10.Dense_0.weight', 'all_modules.10.Dense_0.bias', 'all_modules.10.GroupNorm_1.weight', 'all_modules.10.GroupNorm_1.bias', 'all_modules.10.Conv_1.weight', 'all_modules.10.Conv_1.bias', 'all_modules.10.Conv_2.weight', 'all_modules.10.Conv_2.bias', 'all_modules.11.Conv_0.weight', 'all_modules.11.Conv_0.bias', 'all_modules.12.GroupNorm_0.weight', 'all_modules.12.GroupNorm_0.bias', 'all_modules.12.Conv_0.weight', 'all_modules.12.Conv_0.bias', 'all_modules.12.Dense_0.weight', 'all_modules.12.Dense_0.bias', 'all_modules.12.GroupNorm_1.weight', 'all_modules.12.GroupNorm_1.bias', 'all_modules.12.Conv_1.weight', 'all_modules.12.Conv_1.bias', 'all_modules.12.Conv_2.weight', 'all_modules.12.Conv_2.bias', 'all_modules.13.GroupNorm_0.weight', 'all_modules.13.GroupNorm_0.bias', 'all_modules.13.Conv_0.weight', 'all_modules.13.Conv_0.bias', 'all_modules.13.Dense_0.weight', 'all_modules.13.Dense_0.bias', 'all_modules.13.GroupNorm_1.weight', 'all_modules.13.GroupNorm_1.bias', 'all_modules.13.Conv_1.weight', 'all_modules.13.Conv_1.bias', 'all_modules.14.GroupNorm_0.weight', 'all_modules.14.GroupNorm_0.bias', 'all_modules.14.Conv_0.weight', 'all_modules.14.Conv_0.bias', 'all_modules.14.Dense_0.weight', 'all_modules.14.Dense_0.bias', 'all_modules.14.GroupNorm_1.weight', 'all_modules.14.GroupNorm_1.bias', 'all_modules.14.Conv_1.weight', 'all_modules.14.Conv_1.bias', 'all_modules.14.Conv_2.weight', 'all_modules.14.Conv_2.bias', 'all_modules.15.Conv_0.weight', 'all_modules.15.Conv_0.bias', 'all_modules.16.GroupNorm_0.weight', 'all_modules.16.GroupNorm_0.bias', 'all_modules.16.Conv_0.weight', 'all_modules.16.Conv_0.bias', 'all_modules.16.Dense_0.weight', 'all_modules.16.Dense_0.bias', 'all_modules.16.GroupNorm_1.weight', 'all_modules.16.GroupNorm_1.bias', 'all_modules.16.Conv_1.weight', 'all_modules.16.Conv_1.bias', 'all_modules.17.GroupNorm_0.weight', 'all_modules.17.GroupNorm_0.bias', 'all_modules.17.NIN_0.W', 'all_modules.17.NIN_0.b', 'all_modules.17.NIN_1.W', 'all_modules.17.NIN_1.b', 'all_modules.17.NIN_2.W', 'all_modules.17.NIN_2.b', 'all_modules.17.NIN_3.W', 'all_modules.17.NIN_3.b', 'all_modules.18.GroupNorm_0.weight', 'all_modules.18.GroupNorm_0.bias', 'all_modules.18.Conv_0.weight', 'all_modules.18.Conv_0.bias', 'all_modules.18.Dense_0.weight', 'all_modules.18.Dense_0.bias', 'all_modules.18.GroupNorm_1.weight', 'all_modules.18.GroupNorm_1.bias', 'all_modules.18.Conv_1.weight', 'all_modules.18.Conv_1.bias', 'all_modules.19.GroupNorm_0.weight', 'all_modules.19.GroupNorm_0.bias', 'all_modules.19.NIN_0.W', 'all_modules.19.NIN_0.b', 'all_modules.19.NIN_1.W', 'all_modules.19.NIN_1.b', 'all_modules.19.NIN_2.W', 'all_modules.19.NIN_2.b', 'all_modules.19.NIN_3.W', 'all_modules.19.NIN_3.b', 'all_modules.20.GroupNorm_0.weight', 'all_modules.20.GroupNorm_0.bias', 'all_modules.20.Conv_0.weight', 'all_modules.20.Conv_0.bias', 'all_modules.20.Dense_0.weight', 'all_modules.20.Dense_0.bias', 'all_modules.20.GroupNorm_1.weight', 'all_modules.20.GroupNorm_1.bias', 'all_modules.20.Conv_1.weight', 'all_modules.20.Conv_1.bias', 'all_modules.21.GroupNorm_0.weight', 'all_modules.21.GroupNorm_0.bias', 'all_modules.21.NIN_0.W', 'all_modules.21.NIN_0.b', 'all_modules.21.NIN_1.W', 'all_modules.21.NIN_1.b', 'all_modules.21.NIN_2.W', 'all_modules.21.NIN_2.b', 'all_modules.21.NIN_3.W', 'all_modules.21.NIN_3.b', 'all_modules.22.GroupNorm_0.weight', 'all_modules.22.GroupNorm_0.bias', 'all_modules.22.Conv_0.weight', 'all_modules.22.Conv_0.bias', 'all_modules.22.Conv_0.lora_A', 'all_modules.22.Conv_0.lora_B', 'all_modules.22.Dense_0.weight', 'all_modules.22.Dense_0.bias', 'all_modules.22.GroupNorm_1.weight', 'all_modules.22.GroupNorm_1.bias', 'all_modules.22.Conv_1.weight', 'all_modules.22.Conv_1.bias', 'all_modules.22.Conv_1.lora_A', 'all_modules.22.Conv_1.lora_B', 'all_modules.23.GroupNorm_0.weight', 'all_modules.23.GroupNorm_0.bias', 'all_modules.23.Conv_0.weight', 'all_modules.23.Conv_0.bias', 'all_modules.23.Dense_0.weight', 'all_modules.23.Dense_0.bias', 'all_modules.23.GroupNorm_1.weight', 'all_modules.23.GroupNorm_1.bias', 'all_modules.23.Conv_1.weight', 'all_modules.23.Conv_1.bias', 'all_modules.23.Conv_2.weight', 'all_modules.23.Conv_2.bias', 'all_modules.24.GroupNorm_0.weight', 'all_modules.24.GroupNorm_0.bias', 'all_modules.24.Conv_0.weight', 'all_modules.24.Conv_0.bias', 'all_modules.24.Conv_0.lora_A', 'all_modules.24.Conv_0.lora_B', 'all_modules.24.Dense_0.weight', 'all_modules.24.Dense_0.bias', 'all_modules.24.GroupNorm_1.weight', 'all_modules.24.GroupNorm_1.bias', 'all_modules.24.Conv_1.weight', 'all_modules.24.Conv_1.bias', 'all_modules.24.Conv_1.lora_A', 'all_modules.24.Conv_1.lora_B', 'all_modules.24.Conv_2.weight', 'all_modules.24.Conv_2.bias', 'all_modules.25.GroupNorm_0.weight', 'all_modules.25.GroupNorm_0.bias', 'all_modules.25.Conv_0.weight', 'all_modules.25.Conv_0.bias', 'all_modules.25.Dense_0.weight', 'all_modules.25.Dense_0.bias', 'all_modules.25.GroupNorm_1.weight', 'all_modules.25.GroupNorm_1.bias', 'all_modules.25.Conv_1.weight', 'all_modules.25.Conv_1.bias', 'all_modules.25.Conv_2.weight', 'all_modules.25.Conv_2.bias', 'all_modules.26.GroupNorm_0.weight', 'all_modules.26.GroupNorm_0.bias', 'all_modules.26.NIN_0.W', 'all_modules.26.NIN_0.b', 'all_modules.26.NIN_1.W', 'all_modules.26.NIN_1.b', 'all_modules.26.NIN_2.W', 'all_modules.26.NIN_2.b', 'all_modules.26.NIN_3.W', 'all_modules.26.NIN_3.b', 'all_modules.27.weight', 'all_modules.27.bias', 'all_modules.28.weight', 'all_modules.28.bias', 'all_modules.29.GroupNorm_0.weight', 'all_modules.29.GroupNorm_0.bias', 'all_modules.29.Conv_0.weight', 'all_modules.29.Conv_0.bias', 'all_modules.29.Dense_0.weight', 'all_modules.29.Dense_0.bias', 'all_modules.29.GroupNorm_1.weight', 'all_modules.29.GroupNorm_1.bias', 'all_modules.29.Conv_1.weight', 'all_modules.29.Conv_1.bias', 'all_modules.29.Conv_2.weight', 'all_modules.29.Conv_2.bias', 'all_modules.30.GroupNorm_0.weight', 'all_modules.30.GroupNorm_0.bias', 'all_modules.30.Conv_0.weight', 'all_modules.30.Conv_0.bias', 'all_modules.30.Dense_0.weight', 'all_modules.30.Dense_0.bias', 'all_modules.30.GroupNorm_1.weight', 'all_modules.30.GroupNorm_1.bias', 'all_modules.30.Conv_1.weight', 'all_modules.30.Conv_1.bias', 'all_modules.30.Conv_2.weight', 'all_modules.30.Conv_2.bias', 'all_modules.31.GroupNorm_0.weight', 'all_modules.31.GroupNorm_0.bias', 'all_modules.31.Conv_0.weight', 'all_modules.31.Conv_0.bias', 'all_modules.31.Conv_0.lora_A', 'all_modules.31.Conv_0.lora_B', 'all_modules.31.Dense_0.weight', 'all_modules.31.Dense_0.bias', 'all_modules.31.GroupNorm_1.weight', 'all_modules.31.GroupNorm_1.bias', 'all_modules.31.Conv_1.weight', 'all_modules.31.Conv_1.bias', 'all_modules.31.Conv_1.lora_A', 'all_modules.31.Conv_1.lora_B', 'all_modules.31.Conv_2.weight', 'all_modules.31.Conv_2.bias', 'all_modules.32.GroupNorm_0.weight', 'all_modules.32.GroupNorm_0.bias', 'all_modules.32.Conv_0.weight', 'all_modules.32.Conv_0.bias', 'all_modules.32.Dense_0.weight', 'all_modules.32.Dense_0.bias', 'all_modules.32.GroupNorm_1.weight', 'all_modules.32.GroupNorm_1.bias', 'all_modules.32.Conv_1.weight', 'all_modules.32.Conv_1.bias', 'all_modules.32.Conv_2.weight', 'all_modules.32.Conv_2.bias', 'all_modules.33.weight', 'all_modules.33.bias', 'all_modules.34.weight', 'all_modules.34.bias', 'all_modules.34.lora_A', 'all_modules.34.lora_B', 'all_modules.35.GroupNorm_0.weight', 'all_modules.35.GroupNorm_0.bias', 'all_modules.35.Conv_0.weight', 'all_modules.35.Conv_0.bias', 'all_modules.35.Dense_0.weight', 'all_modules.35.Dense_0.bias', 'all_modules.35.GroupNorm_1.weight', 'all_modules.35.GroupNorm_1.bias', 'all_modules.35.Conv_1.weight', 'all_modules.35.Conv_1.bias', 'all_modules.35.Conv_2.weight', 'all_modules.35.Conv_2.bias', 'all_modules.36.GroupNorm_0.weight', 'all_modules.36.GroupNorm_0.bias', 'all_modules.36.Conv_0.weight', 'all_modules.36.Conv_0.bias', 'all_modules.36.Dense_0.weight', 'all_modules.36.Dense_0.bias', 'all_modules.36.GroupNorm_1.weight', 'all_modules.36.GroupNorm_1.bias', 'all_modules.36.Conv_1.weight', 'all_modules.36.Conv_1.bias', 'all_modules.36.Conv_2.weight', 'all_modules.36.Conv_2.bias', 'all_modules.37.GroupNorm_0.weight', 'all_modules.37.GroupNorm_0.bias', 'all_modules.37.Conv_0.weight', 'all_modules.37.Conv_0.bias', 'all_modules.37.Conv_0.lora_A', 'all_modules.37.Conv_0.lora_B', 'all_modules.37.Dense_0.weight', 'all_modules.37.Dense_0.bias', 'all_modules.37.GroupNorm_1.weight', 'all_modules.37.GroupNorm_1.bias', 'all_modules.37.Conv_1.weight', 'all_modules.37.Conv_1.bias', 'all_modules.37.Conv_1.lora_A', 'all_modules.37.Conv_1.lora_B', 'all_modules.37.Conv_2.weight', 'all_modules.37.Conv_2.bias', 'all_modules.38.GroupNorm_0.weight', 'all_modules.38.GroupNorm_0.bias', 'all_modules.38.Conv_0.weight', 'all_modules.38.Conv_0.bias', 'all_modules.38.Dense_0.weight', 'all_modules.38.Dense_0.bias', 'all_modules.38.GroupNorm_1.weight', 'all_modules.38.GroupNorm_1.bias', 'all_modules.38.Conv_1.weight', 'all_modules.38.Conv_1.bias', 'all_modules.38.Conv_2.weight', 'all_modules.38.Conv_2.bias', 'all_modules.39.weight', 'all_modules.39.bias', 'all_modules.40.weight', 'all_modules.40.bias', 'all_modules.40.lora_A', 'all_modules.40.lora_B', 'all_modules.41.GroupNorm_0.weight', 'all_modules.41.GroupNorm_0.bias', 'all_modules.41.Conv_0.weight', 'all_modules.41.Conv_0.bias', 'all_modules.41.Dense_0.weight', 'all_modules.41.Dense_0.bias', 'all_modules.41.GroupNorm_1.weight', 'all_modules.41.GroupNorm_1.bias', 'all_modules.41.Conv_1.weight', 'all_modules.41.Conv_1.bias', 'all_modules.41.Conv_2.weight', 'all_modules.41.Conv_2.bias', 'all_modules.42.GroupNorm_0.weight', 'all_modules.42.GroupNorm_0.bias', 'all_modules.42.Conv_0.weight', 'all_modules.42.Conv_0.bias', 'all_modules.42.Dense_0.weight', 'all_modules.42.Dense_0.bias', 'all_modules.42.GroupNorm_1.weight', 'all_modules.42.GroupNorm_1.bias', 'all_modules.42.Conv_1.weight', 'all_modules.42.Conv_1.bias', 'all_modules.42.Conv_2.weight', 'all_modules.42.Conv_2.bias', 'all_modules.43.GroupNorm_0.weight', 'all_modules.43.GroupNorm_0.bias', 'all_modules.43.Conv_0.weight', 'all_modules.43.Conv_0.bias', 'all_modules.43.Conv_0.lora_A', 'all_modules.43.Conv_0.lora_B', 'all_modules.43.Dense_0.weight', 'all_modules.43.Dense_0.bias', 'all_modules.43.GroupNorm_1.weight', 'all_modules.43.GroupNorm_1.bias', 'all_modules.43.Conv_1.weight', 'all_modules.43.Conv_1.bias', 'all_modules.43.Conv_1.lora_A', 'all_modules.43.Conv_1.lora_B', 'all_modules.43.Conv_2.weight', 'all_modules.43.Conv_2.bias', 'all_modules.44.GroupNorm_0.weight', 'all_modules.44.GroupNorm_0.bias', 'all_modules.44.Conv_0.weight', 'all_modules.44.Conv_0.bias', 'all_modules.44.Dense_0.weight', 'all_modules.44.Dense_0.bias', 'all_modules.44.GroupNorm_1.weight', 'all_modules.44.GroupNorm_1.bias', 'all_modules.44.Conv_1.weight', 'all_modules.44.Conv_1.bias', 'all_modules.44.Conv_2.weight', 'all_modules.44.Conv_2.bias', 'all_modules.45.weight', 'all_modules.45.bias', 'all_modules.46.weight', 'all_modules.46.bias', 'all_modules.46.lora_A', 'all_modules.46.lora_B'])\n"
     ]
    }
   ],
   "source": [
    "print(loaded_state.keys())\n",
    "print(afhq_lora_dog_model.network.state_dict().keys())"
   ]
  },
  {
   "cell_type": "code",
   "execution_count": null,
   "metadata": {},
   "outputs": [],
   "source": [
    "afhq_lora_dog_model.network.load_state_dict(loaded_state, strict=False)\n",
    "((afhq_lora_dog_model.network.state_dict()[\"all_modules.1.weight\"] - loaded_state[\"all_modules.1.weight\"]) ** 2).sum()"
   ]
  },
  {
   "cell_type": "code",
   "execution_count": null,
   "metadata": {},
   "outputs": [],
   "source": [
    "mark_only_lora_as_trainable(afhq_lora_dog_model.network)\n",
    "for name , p in list(afhq_lora_dog_model.network.named_parameters()):\n",
    "    print(f\"{name}: {p.requires_grad}\")\n",
    "    if \"lora_\" in name:\n",
    "        print(p, p.shape)"
   ]
  },
  {
   "cell_type": "code",
   "execution_count": null,
   "metadata": {},
   "outputs": [],
   "source": [
    "load_state1 = torch.load(\"./data/checkpoints/generative_model/flowMatching/ncsnpp-afhq-31000-model\")\n",
    "load_state2 = torch.load(\"./data/checkpoints/generative_model/flowMatching/lora_ncsnpp-afhq-2000-model\")\n",
    "print(load_state2.keys() - load_state1.keys())\n",
    "for key in load_state2.keys():\n",
    "    if key in load_state1.keys():\n",
    "        diff = torch.sum((load_state1[key] - load_state2[key]) ** 2)\n",
    "        if diff > 1e-6:\n",
    "            print(key, diff)\n",
    "    else :\n",
    "        print(key)\n",
    "        print(torch.sum(load_state2[key]**2))"
   ]
  }
 ],
 "metadata": {
  "kernelspec": {
   "display_name": "py3",
   "language": "python",
   "name": "python3"
  },
  "language_info": {
   "codemirror_mode": {
    "name": "ipython",
    "version": 3
   },
   "file_extension": ".py",
   "mimetype": "text/x-python",
   "name": "python",
   "nbconvert_exporter": "python",
   "pygments_lexer": "ipython3",
   "version": "3.8.19"
  }
 },
 "nbformat": 4,
 "nbformat_minor": 2
}
