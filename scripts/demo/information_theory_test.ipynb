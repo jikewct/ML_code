{
 "cells": [
  {
   "cell_type": "code",
   "execution_count": 1,
   "metadata": {},
   "outputs": [],
   "source": [
    "import torch\n",
    "import numpy as np\n",
    "import scipy\n",
    "import matplotlib.pyplot as plt"
   ]
  },
  {
   "cell_type": "code",
   "execution_count": 145,
   "metadata": {},
   "outputs": [
    {
     "name": "stdout",
     "output_type": "stream",
     "text": [
      "3.157902766506501\n"
     ]
    },
    {
     "data": {
      "image/png": "[encoded data removed]",
      "text/plain": [
       "<Figure size 640x480 with 1 Axes>"
      ]
     },
     "metadata": {},
     "output_type": "display_data"
    }
   ],
   "source": [
    "\n",
    "\n",
    "dim = 1000\n",
    "theta = np.sort(np.random.uniform(0, np.pi, 10000))\n",
    "p_theta =  scipy.special.gamma(dim/2)/scipy.special.gamma((dim -1)/2)/np.sqrt(np.pi) * (np.sin(theta)**(dim -2))\n",
    "n_cos_theta = np.cos(theta) * dim\n",
    "exp_n_cos_theta = np.exp(n_cos_theta)\n",
    "\n",
    "h_n = np.log(np.sum(p_theta * exp_n_cos_theta)) - np.sum(p_theta * exp_n_cos_theta *n_cos_theta)/np.sum(p_theta * exp_n_cos_theta)\n",
    "\n",
    "print(h_n)\n",
    "\n",
    "fig = plt.figure()\n",
    "ax1 = fig.add_subplot(1,2,1)\n",
    "ax1.plot(theta, p_theta)\n",
    "plt.show()\n",
    "\n"
   ]
  },
  {
   "cell_type": "code",
   "execution_count": 146,
   "metadata": {},
   "outputs": [
    {
     "name": "stdout",
     "output_type": "stream",
     "text": [
      "0.14932570248900523\n"
     ]
    }
   ],
   "source": [
    "dim = 3\n",
    "sample_num = 10000\n",
    "theta = np.random.rand(sample_num) * np.pi\n",
    "coefficient = scipy.special.gamma(dim/2)/scipy.special.gamma((dim -1)/2)/np.sqrt(np.pi)\n",
    "\n",
    "sum = coefficient * np.sum((theta - np.pi/2)**2 * (np.sin(theta)**(dim -2))) / sample_num\n",
    "\n",
    "print(sum)\n"
   ]
  },
  {
   "cell_type": "code",
   "execution_count": 151,
   "metadata": {},
   "outputs": [
    {
     "name": "stdout",
     "output_type": "stream",
     "text": [
      "[[0.33251156 0.24985269 0.250307   ... 0.24984178 0.25495509 0.25149946]\n",
      " [0.24985269 0.33423891 0.25257837 ... 0.25074635 0.25906701 0.252132  ]\n",
      " [0.250307   0.25257837 0.33866789 ... 0.25447445 0.2560389  0.25840122]\n",
      " ...\n",
      " [0.24984178 0.25074635 0.25447445 ... 0.33779122 0.25560804 0.25294675]\n",
      " [0.25495509 0.25906701 0.2560389  ... 0.25560804 0.3440297  0.25648688]\n",
      " [0.25149946 0.252132   0.25840122 ... 0.25294675 0.25648688 0.33784693]]\n",
      "0.06294155971757068\n"
     ]
    }
   ],
   "source": [
    "#高维空间随机向量（正态分布采样）基本正交\n",
    "import numpy as np\n",
    "n = 1000\n",
    "W = np.random.randn(n, n) / np.sqrt(n)\n",
    "X = np.dot(W.T, W)  # 矩阵乘以自身的转置\n",
    "print(X)  # 看看是否接近单位阵\n",
    "print(np.square(X - np.eye(n)).mean())  # 计算与单位阵的mse"
   ]
  },
  {
   "cell_type": "code",
   "execution_count": null,
   "metadata": {},
   "outputs": [
    {
     "name": "stdout",
     "output_type": "stream",
     "text": [
      "0.0020761375312348517\n",
      "(10000, 10000)\n"
     ]
    }
   ],
   "source": [
    "n = 1000\n",
    "W_1 = np.random.randn(n, n//2) / np.sqrt(n/2)\n",
    "\n",
    "W_2 = W_uniform = np.random.uniform(-1, 1, (n, n//2)) * np.sqrt(3/sample_num/2)\n",
    "\n",
    "W_cat = np.concatenate((W_1, W_2), axis= 1)\n",
    "X_cat_uniform = np.dot(W_cat.T, W_cat)\n",
    "print(np.square(X_cat_uniform - np.eye(n)).mean()) \n",
    "print(W_cat.shape)\n"
   ]
  },
  {
   "cell_type": "code",
   "execution_count": null,
   "metadata": {},
   "outputs": [],
   "source": []
  },
  {
   "cell_type": "code",
   "execution_count": 186,
   "metadata": {},
   "outputs": [
    {
     "name": "stdout",
     "output_type": "stream",
     "text": [
      "0.9951381863454482 0.3039126169781138\n",
      "0.000996346465686867\n"
     ]
    }
   ],
   "source": [
    "dim = 100\n",
    "sample_num = 1000\n",
    "a = np.random.rand(dim) * 2\n",
    "mean_a = np.mean(a)\n",
    "var_a  = np.sum((a - mean_a) **2) / dim\n",
    "print(mean_a, var_a)\n",
    "\n",
    "#高维空间随机向量（均匀分布采样）基本正交\n",
    "W_uniform = np.random.uniform(-1, 1, (sample_num, sample_num)) * np.sqrt(3/sample_num)\n",
    "X_uniform = np.dot(W_uniform.T, W_uniform)\n",
    "print(np.square(X_uniform - np.eye(sample_num)).mean())  # 计算与单位阵的mse\n"
   ]
  },
  {
   "cell_type": "code",
   "execution_count": 4,
   "metadata": {},
   "outputs": [
    {
     "name": "stdout",
     "output_type": "stream",
     "text": [
      "23.025850929940457\n"
     ]
    }
   ],
   "source": [
    "print(np.log(100000**2))"
   ]
  }
 ],
 "metadata": {
  "kernelspec": {
   "display_name": "py3",
   "language": "python",
   "name": "python3"
  },
  "language_info": {
   "codemirror_mode": {
    "name": "ipython",
    "version": 3
   },
   "file_extension": ".py",
   "mimetype": "text/x-python",
   "name": "python",
   "nbconvert_exporter": "python",
   "pygments_lexer": "ipython3",
   "version": "3.11.9"
  }
 },
 "nbformat": 4,
 "nbformat_minor": 2
}
