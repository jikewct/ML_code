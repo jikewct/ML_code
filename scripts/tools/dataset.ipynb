{
 "cells": [
  {
   "cell_type": "code",
   "execution_count": 1,
   "metadata": {},
   "outputs": [],
   "source": [
    "%load_ext autoreload\n",
    "%autoreload 2\n",
    "import torch\n",
    "import torchvision.transforms as tforms\n",
    "from torch.utils.data import DataLoader\n",
    "from torchvision import datasets\n",
    "import os\n",
    "import pathlib\n"
   ]
  },
  {
   "cell_type": "code",
   "execution_count": 2,
   "metadata": {},
   "outputs": [],
   "source": [
    "def merge_dirs():\n",
    "    path = \"E:\\jikewct\\Repos\\ml_code\\data\\\\test\\\\fast_fid\"\n",
    "    dirs = [\"1721321267\", \"1721327876\",\"1721333589\",\"1721339246\",\"1721344845\"]\n",
    "    merge_dir = \"merge_cifar10_ncsnpp\"\n",
    "    os.makedirs(path+\"/\"+merge_dir, exist_ok=True)\n",
    "    for  dir in dirs:\n",
    "        file_dir = path + \"/\" + dir\n",
    "        # 指定目录路径\n",
    "        directory = pathlib.Path(file_dir)\n",
    "        # 获取目录下所有文件的路径\n",
    "        files = [file for file in directory.iterdir() if file.is_file()]\n",
    "        for file in files:\n",
    "            dest_file = path + \"/\" + merge_dir + \"/\" + dir + \"_\" + file.name\n",
    "            os.rename(file, dest_file)\n",
    "\n"
   ]
  },
  {
   "cell_type": "code",
   "execution_count": 3,
   "metadata": {},
   "outputs": [],
   "source": [
    "import sys\n",
    "sys.path.append('.')\n",
    "sys.path.append('..')\n",
    "os.chdir('/home/jikewct/public/jikewct/Repos/ml_code')\n",
    "from datasets import *\n",
    "from configs.flow_matching import afhq_cat_uvit\n"
   ]
  },
  {
   "cell_type": "code",
   "execution_count": 4,
   "metadata": {},
   "outputs": [
    {
     "name": "stdout",
     "output_type": "stream",
     "text": [
      "{'train_images': 5153, 'val_images': 500, 'root_path': '/home/jikewct/public/jikewct/Dataset/afhq', 'img_channels': 3, 'centered': True, 'dataset': 'afhq', 'num_classes': 10, 'random_flip': True, 'uniform_dequantization': False}\n"
     ]
    }
   ],
   "source": [
    "config = afhq_cat_uvit.get_config()\n",
    "dataset = dataset_factory.create_dataset(config)\n",
    "print(dataset.states())\n",
    "#print(dataset.__dict__.items())\n",
    "# for key, val in dataset.__dict__.items():\n",
    "#     if isinstance(val, (int, float, str, bool, bytes, bytearray, complex)):\n",
    "#         print(key, val)"
   ]
  },
  {
   "cell_type": "code",
   "execution_count": 6,
   "metadata": {},
   "outputs": [],
   "source": [
    "def test_args(a,b):\n",
    "    print(a,b)\n",
    "\n",
    "args = {\"a\":1, \"b\":2,\"c\":3}\n",
    "#test_args(**args)"
   ]
  }
 ],
 "metadata": {
  "kernelspec": {
   "display_name": "py3",
   "language": "python",
   "name": "python3"
  },
  "language_info": {
   "codemirror_mode": {
    "name": "ipython",
    "version": 3
   },
   "file_extension": ".py",
   "mimetype": "text/x-python",
   "name": "python",
   "nbconvert_exporter": "python",
   "pygments_lexer": "ipython3",
   "version": "3.11.9"
  }
 },
 "nbformat": 4,
 "nbformat_minor": 2
}
