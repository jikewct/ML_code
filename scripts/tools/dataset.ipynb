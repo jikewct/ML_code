{
 "cells": [
  {
   "cell_type": "code",
   "execution_count": 1,
   "metadata": {},
   "outputs": [],
   "source": [
    "%load_ext autoreload\n",
    "%autoreload 2\n",
    "import torch\n",
    "import torchvision.transforms as tforms\n",
    "from torch.utils.data import DataLoader\n",
    "from torchvision import datasets\n",
    "import os\n",
    "import pathlib\n"
   ]
  },
  {
   "cell_type": "code",
   "execution_count": 2,
   "metadata": {},
   "outputs": [],
   "source": [
    "def merge_dirs():\n",
    "    path = \"E:\\jikewct\\Repos\\ml_code\\data\\\\test\\\\fast_fid\"\n",
    "    dirs = [\"1721321267\", \"1721327876\",\"1721333589\",\"1721339246\",\"1721344845\"]\n",
    "    merge_dir = \"merge_cifar10_ncsnpp\"\n",
    "    os.makedirs(path+\"/\"+merge_dir, exist_ok=True)\n",
    "    for  dir in dirs:\n",
    "        file_dir = path + \"/\" + dir\n",
    "        # 指定目录路径\n",
    "        directory = pathlib.Path(file_dir)\n",
    "        # 获取目录下所有文件的路径\n",
    "        files = [file for file in directory.iterdir() if file.is_file()]\n",
    "        for file in files:\n",
    "            dest_file = path + \"/\" + merge_dir + \"/\" + dir + \"_\" + file.name\n",
    "            os.rename(file, dest_file)\n",
    "\n"
   ]
  },
  {
   "cell_type": "code",
   "execution_count": 2,
   "metadata": {},
   "outputs": [
    {
     "ename": "ImportError",
     "evalue": "cannot import name 'afhq_cat_uvit' from 'configs.flow_matching' (unknown location)",
     "output_type": "error",
     "traceback": [
      "\u001b[0;31m---------------------------------------------------------------------------\u001b[0m",
      "\u001b[0;31mImportError\u001b[0m                               Traceback (most recent call last)",
      "Cell \u001b[0;32mIn[2], line 6\u001b[0m\n\u001b[1;32m      4\u001b[0m os\u001b[38;5;241m.\u001b[39mchdir(\u001b[38;5;124m'\u001b[39m\u001b[38;5;124m/home/jikewct/public/jikewct/Repos/ml_code\u001b[39m\u001b[38;5;124m'\u001b[39m)\n\u001b[1;32m      5\u001b[0m \u001b[38;5;28;01mfrom\u001b[39;00m \u001b[38;5;21;01mdatasets\u001b[39;00m \u001b[38;5;28;01mimport\u001b[39;00m \u001b[38;5;241m*\u001b[39m\n\u001b[0;32m----> 6\u001b[0m \u001b[38;5;28;01mfrom\u001b[39;00m \u001b[38;5;21;01mconfigs\u001b[39;00m\u001b[38;5;21;01m.\u001b[39;00m\u001b[38;5;21;01mflow_matching\u001b[39;00m \u001b[38;5;28;01mimport\u001b[39;00m afhq_cat_uvit\n",
      "\u001b[0;31mImportError\u001b[0m: cannot import name 'afhq_cat_uvit' from 'configs.flow_matching' (unknown location)"
     ]
    }
   ],
   "source": [
    "import sys\n",
    "sys.path.append('.')\n",
    "sys.path.append('..')\n",
    "os.chdir('/home/jikewct/public/jikewct/Repos/ml_code')\n",
    "from datasets import *\n",
    "from configs.flow_matching import afhq_cat_uvit\n"
   ]
  },
  {
   "cell_type": "code",
   "execution_count": 4,
   "metadata": {},
   "outputs": [
    {
     "name": "stdout",
     "output_type": "stream",
     "text": [
      "{'train_images': 5153, 'val_images': 500, 'root_path': '/home/jikewct/public/jikewct/Dataset/afhq', 'img_channels': 3, 'centered': True, 'dataset': 'afhq', 'num_classes': 10, 'random_flip': True, 'uniform_dequantization': False}\n"
     ]
    }
   ],
   "source": [
    "config = afhq_cat_uvit.get_config()\n",
    "dataset = dataset_factory.create_dataset(config)\n",
    "print(dataset.states())\n",
    "#print(dataset.__dict__.items())\n",
    "# for key, val in dataset.__dict__.items():\n",
    "#     if isinstance(val, (int, float, str, bool, bytes, bytearray, complex)):\n",
    "#         print(key, val)"
   ]
  },
  {
   "cell_type": "code",
   "execution_count": 3,
   "metadata": {},
   "outputs": [
    {
     "name": "stdout",
     "output_type": "stream",
     "text": [
      "tensor([3, 3, 0, 2, 1, 4, 7, 2, 3, 9, 5, 7, 0, 1, 6, 4, 0, 2, 3, 6, 0, 9, 0, 4,\n",
      "        3, 9, 3, 6, 9, 2, 7, 6, 2, 4, 3, 2, 4, 0, 7, 1, 6, 0, 2, 5, 6, 8, 8, 7,\n",
      "        3, 0, 4, 2, 2, 3, 2, 7, 2, 7, 3, 8, 8, 8, 3, 5, 8, 2, 6, 9, 5, 4, 8, 1,\n",
      "        0, 5, 2, 4, 8, 9, 2, 9, 0, 5, 7, 0, 0, 2, 8, 4, 7, 8, 2, 5, 7, 7, 5, 0,\n",
      "        1, 3, 2, 2])\n"
     ]
    }
   ],
   "source": [
    "from configs.default_mnist_configs import get_default_configs\n",
    "config = get_default_configs()\n",
    "dataset = dataset_factory.create_dataset(config)\n",
    "train_loader, test_loader = dataset.get_dataloader(100)\n",
    "for x, y in train_loader:\n",
    "    print(y)\n",
    "    break"
   ]
  }
 ],
 "metadata": {
  "kernelspec": {
   "display_name": "py3",
   "language": "python",
   "name": "python3"
  },
  "language_info": {
   "codemirror_mode": {
    "name": "ipython",
    "version": 3
   },
   "file_extension": ".py",
   "mimetype": "text/x-python",
   "name": "python",
   "nbconvert_exporter": "python",
   "pygments_lexer": "ipython3",
   "version": "3.11.9"
  }
 },
 "nbformat": 4,
 "nbformat_minor": 2
}
