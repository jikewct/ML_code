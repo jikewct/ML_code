{
 "cells": [
  {
   "cell_type": "code",
   "execution_count": 1,
   "metadata": {},
   "outputs": [],
   "source": [
    "import numpy as np\n",
    "import torch"
   ]
  },
  {
   "cell_type": "code",
   "execution_count": 8,
   "metadata": {},
   "outputs": [
    {
     "name": "stdout",
     "output_type": "stream",
     "text": [
      "9.728966348273389 9.728966348273389\n"
     ]
    }
   ],
   "source": [
    "\n",
    "def add1DROPEEncoding(vector, pos, pos_encoding_base = 10000):\n",
    "    dim = vector.shape[0]\n",
    "    pos_theta = pos *  np.float_power( pos_encoding_base, -2 * (np.arange(dim) //2)  /dim)\n",
    "    #pos_theta = np.float_power( pos_encoding_base, -2* pos * (np.ones_like(vector)) /dim)\n",
    "    #pos_theta = np.array([np.pi/6, np.pi/6]) * pos\n",
    "    pos_cos_theta = np.cos(pos_theta)\n",
    "    pos_sin_theta = np.sin(pos_theta)   \n",
    "    exchanged_vector = np.roll(vector.reshape(-1,2)* np.array([1,-1]), 1, axis=1).reshape(-1)\n",
    "    vector_add_pos = vector * pos_cos_theta + exchanged_vector * pos_sin_theta\n",
    "    #print(vector_add_pos)\n",
    "    #print(pos_cos_theta, pos_sin_theta)\n",
    "    return vector_add_pos\n",
    "\n",
    "dim = 50\n",
    "pos_encoding_base = 10000\n",
    "n = 5\n",
    "m = 10\n",
    "vector1 = np.random.rand(dim)\n",
    "vector2 = np.random.rand(dim)\n",
    "\n",
    "vector1_pos = add1DROPEEncoding(vector1, n)\n",
    "vector2_pos = add1DROPEEncoding(vector2, m)\n",
    "inner_prod = np.inner(vector1_pos, vector2_pos)\n",
    "\n",
    "vector2_m_n_pos = add1DROPEEncoding(vector2, m - n )\n",
    "exact_prod = np.inner(vector1,vector2_m_n_pos )\n",
    "\n",
    "\n",
    "print(inner_prod, exact_prod)"
   ]
  },
  {
   "cell_type": "code",
   "execution_count": 18,
   "metadata": {},
   "outputs": [
    {
     "name": "stdout",
     "output_type": "stream",
     "text": [
      "13.537979975037562 13.537979975037562\n"
     ]
    }
   ],
   "source": [
    "def add2DROPEEncoding(vector, pos_x_y, pos_encoding_base = 10000):\n",
    "    x = pos_x_y[0]\n",
    "    y = pos_x_y[1]\n",
    "    dim = vector.shape[0]\n",
    "    vector1 = vector[:dim //2]\n",
    "    vector2 = vector[dim //2 :]\n",
    "    vector1_add_pos = add1DROPEEncoding(vector1, x)\n",
    "    vector2_add_pos = add1DROPEEncoding(vector2, y)\n",
    "    vector_add_pos = np.concatenate((vector1_add_pos, vector2_add_pos))\n",
    "    return  vector_add_pos\n",
    "\n",
    "dim = 64\n",
    "pos1 = np.array([2,5])\n",
    "pos2 = np.array([3,6])\n",
    "vector1 = np.random.rand(dim)\n",
    "vector2 = np.random.rand(dim)\n",
    "\n",
    "vector1_pos = add2DROPEEncoding(vector1, pos1)\n",
    "vector2_pos = add2DROPEEncoding(vector2, pos2)\n",
    "inner_prod = np.inner(vector1_pos, vector2_pos)\n",
    "\n",
    "vector2_relative_pos = add2DROPEEncoding(vector2, pos2 - pos1)\n",
    "exact_prod = np.inner(vector1, vector2_relative_pos)\n",
    "\n",
    "print(inner_prod, exact_prod)"
   ]
  }
 ],
 "metadata": {
  "kernelspec": {
   "display_name": "py3",
   "language": "python",
   "name": "python3"
  },
  "language_info": {
   "codemirror_mode": {
    "name": "ipython",
    "version": 3
   },
   "file_extension": ".py",
   "mimetype": "text/x-python",
   "name": "python",
   "nbconvert_exporter": "python",
   "pygments_lexer": "ipython3",
   "version": "3.11.9"
  }
 },
 "nbformat": 4,
 "nbformat_minor": 2
}
